{
  "cells": [
    {
      "cell_type": "markdown",
      "metadata": {},
      "source": [
        "# Sudoku DLX — Demo Notebook\n",
        "\n",
        "This notebook walks through:\n",
        "1. Generate & analyze a puzzle\n",
        "2. Solve & capture a trace\n",
        "3. Review human-style explanation steps\n",
        "4. (Optional) SAT cross-check\n",
        "\n",
        "> Set up locally with `pip install -e \".[dev]\"` and optionally `pip install -e \".[sat]\"`."
      ]
    },
    {
      "cell_type": "code",
      "execution_count": null,
      "metadata": {},
      "outputs": [],
      "source": [
        "from textwrap import dedent\n",
        "\n",
        "from sudoku_dlx import analyze, generate, solve, to_string, explain, build_reveal_trace\n",
        "from sudoku_dlx.crosscheck import sat_solve\n",
        "\n",
        "puzzle = generate(seed=123, target_givens=30, minimal=False, symmetry=\"mix\")\n",
        "print(\"Puzzle:\")\n",
        "for row in puzzle:\n",
        "    print(\" \\".join(str(x) if x else \".\" for x in row))\n",
        "print(\"\nAnalysis:\")\n",
        "print(analyze(puzzle))"
      ]
    },
    {
      "cell_type": "code",
      "execution_count": null,
      "metadata": {},
      "outputs": [],
      "source": [
        "result = solve([row[:] for row in puzzle])\n",
        "assert result is not None\n",
        "print(\"Solved in\", f\"{result.stats.ms:.2f} ms\", \"nodes:\", result.stats.nodes)\n",
        "print(\"Solution (81):\", to_string(result.grid))\n",
        "trace = build_reveal_trace(puzzle, result.grid, result.stats)\n",
        "print(\"Trace keys:\", list(trace.keys()))"
      ]
    },
    {
      "cell_type": "markdown",
      "metadata": {},
      "source": [
        "### Human-style steps"
      ]
    },
    {
      "cell_type": "code",
      "execution_count": null,
      "metadata": {},
      "outputs": [],
      "source": [
        "explanation = explain(puzzle, max_steps=200)\n",
        "print(\"Steps:\", len(explanation['steps']))\n",
        "print(\"Progress:\", explanation['progress'])\n",
        "print(\"Example step:\", explanation['steps'][0] if explanation['steps'] else None)"
      ]
    },
    {
      "cell_type": "markdown",
      "metadata": {},
      "source": [
        "### Optional: SAT cross-check\n",
        "If `python-sat` is installed, the SAT solution should match DLX."
      ]
    },
    {
      "cell_type": "code",
      "execution_count": null,
      "metadata": {},
      "outputs": [],
      "source": [
        "sat_grid = None\n",
        "try:\n",
        "    sat_grid = sat_solve(puzzle)\n",
        "except Exception as exc:\n",
        "    print(\"SAT unavailable:\", exc)\n",
        "if sat_grid is not None:\n",
        "    print(\"SAT solved:\", to_string(sat_grid))\n",
        "    print(\"Match:\", to_string(sat_grid) == to_string(result.grid))\n",
        "else:\n",
        "    print(\"SAT solver not installed. Run pip install -e '.[sat]'\")"
      ]
    }
  ],
  "metadata": {
    "kernelspec": {
      "display_name": "Python 3",
      "language": "python",
      "name": "python3"
    },
    "language_info": {
      "name": "python",
      "pygments_lexer": "ipython3"
    }
  },
  "nbformat": 4,
  "nbformat_minor": 5
}
